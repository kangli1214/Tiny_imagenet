{
 "cells": [
  {
   "cell_type": "code",
   "execution_count": 111,
   "id": "0d925761",
   "metadata": {},
   "outputs": [],
   "source": [
    "import os\n",
    "import pickle\n",
    "import numpy as np\n",
    "import math\n",
    "import matplotlib.pyplot as plt\n",
    "import math\n",
    "import pandas as pd\n",
    "from sklearn.metrics import mean_squared_error\n",
    "\n",
    "# Load preprocessed training data and labels\n",
    "x_train = np.load(\"preprocessed_dataset/train/X_train.npy\")\n",
    "y_train = np.load(\"preprocessed_dataset/train/y_train.npy\")\n",
    "\n",
    "# Load preprocessed validation data and labels\n",
    "x_test = np.load(\"preprocessed_dataset/validation/X_val.npy\")\n",
    "y_test = np.load(\"preprocessed_dataset/validation/y_val.npy\")\n"
   ]
  },
  {
   "cell_type": "code",
   "execution_count": 124,
   "id": "f646e4b8",
   "metadata": {},
   "outputs": [
    {
     "name": "stdout",
     "output_type": "stream",
     "text": [
      "22\n"
     ]
    }
   ],
   "source": []
  },
  {
   "cell_type": "code",
   "execution_count": 112,
   "id": "1407f6c3",
   "metadata": {},
   "outputs": [],
   "source": [
    "a=4\n",
    "b=11\n",
    "n=200 # number of samples\n",
    "delta=8/255 #noise level\n",
    "delta2=1*delta\n",
    "aug=10"
   ]
  },
  {
   "cell_type": "code",
   "execution_count": 113,
   "id": "5991b445",
   "metadata": {},
   "outputs": [
    {
     "name": "stdout",
     "output_type": "stream",
     "text": [
      "Shape of x_train_ab_flat: (1000, 12288)\n",
      "Shape of y_train_ab: (1000,)\n",
      "Shape of x_test_ab_flat: (100, 12288)\n",
      "Shape of y_test_ab: (100,)\n"
     ]
    }
   ],
   "source": [
    "# Choose the labels 'a' and 'b'\n",
    "label_1 = a  # Replace with the actual label you want to extract\n",
    "label_2 = b  # Replace with the actual label you want to extract\n",
    "\n",
    "# Filter training set\n",
    "mask_train_1 = (y_train == label_1)\n",
    "mask_train_2 = (y_train == label_2)\n",
    "mask_train = np.logical_or(mask_train_1, mask_train_2)\n",
    "\n",
    "trainx = x_train[mask_train]\n",
    "trainy = y_train[mask_train]\n",
    "\n",
    "# Assign values -1 for label 'a' and 1 for label 'b'\n",
    "trainy= np.where(trainy == label_1, -1, 1)\n",
    "\n",
    "# Filter test set\n",
    "mask_test_1 = (y_test == label_1)\n",
    "mask_test_2 = (y_test == label_2)\n",
    "mask_test = np.logical_or(mask_test_1, mask_test_2)\n",
    "\n",
    "testx = x_test[mask_test]\n",
    "testy = y_test[mask_test]\n",
    "\n",
    "# Assign values -1 for label 'a' and 1 for label 'b'\n",
    "testy = np.where(testy == label_1, -1, 1)\n",
    "\n",
    "# Flatten each image in the extracted sets\n",
    "trainx= trainx.reshape((len(trainx), -1))\n",
    "testx = testx.reshape((len(testx), -1))\n",
    "\n",
    "# Print the shapes of the extracted and flattened sets\n",
    "print(\"Shape of x_train_ab_flat:\", trainx.shape)\n",
    "print(\"Shape of y_train_ab:\", trainy.shape)\n",
    "print(\"Shape of x_test_ab_flat:\", testx.shape)\n",
    "print(\"Shape of y_test_ab:\", testy.shape)\n"
   ]
  },
  {
   "cell_type": "code",
   "execution_count": 114,
   "id": "990dbb04",
   "metadata": {},
   "outputs": [
    {
     "name": "stdout",
     "output_type": "stream",
     "text": [
      "Shape of x_train_sampled_flat: (200, 12288)\n",
      "Shape of y_train_sampled: (200,)\n"
     ]
    }
   ],
   "source": [
    "# Ensure n is even, adjust if needed\n",
    "n = n if n % 2 == 0 else n + 1\n",
    "\n",
    "# Get the indices of the samples for label 'a'\n",
    "indices_label_a = np.where(trainy == -1)[0][:int(n/2)]\n",
    "\n",
    "# Get the indices of the samples for label 'b'\n",
    "indices_label_b = np.where(trainy == 1)[0][:int(n/2)]\n",
    "\n",
    "# Combine the selected indices\n",
    "selected_indices = np.concatenate([indices_label_a, indices_label_b])\n",
    "\n",
    "# Extract the sampled data points\n",
    "x_train_sampled = trainx[selected_indices]\n",
    "y_train_sampled = trainy[selected_indices]\n",
    "\n",
    "# Print the shapes of the sampled and flattened set\n",
    "print(\"Shape of x_train_sampled_flat:\", x_train_sampled.shape)\n",
    "print(\"Shape of y_train_sampled:\", y_train_sampled.shape)\n"
   ]
  },
  {
   "cell_type": "code",
   "execution_count": null,
   "id": "5ba05b82",
   "metadata": {},
   "outputs": [],
   "source": []
  },
  {
   "cell_type": "code",
   "execution_count": 115,
   "id": "a416bfd8",
   "metadata": {},
   "outputs": [],
   "source": [
    "train1=x_train_sampled\n",
    "ytrain1=y_train_sampled\n",
    "test1=testx\n",
    "Ytest=testy\n",
    "\n",
    "z=[10**(-8),10**(-7),10**(-6),10**(-5),10**(-4),10**(-3),10**(-2)]"
   ]
  },
  {
   "cell_type": "code",
   "execution_count": 116,
   "id": "ad1ae99f",
   "metadata": {},
   "outputs": [],
   "source": [
    "def Ker(X,Y):\n",
    "    x=np.sum(np.square(X),axis=1)\n",
    "    y=np.sum(np.square(Y),axis=1)\n",
    "    x=x.reshape(len(x),1)\n",
    "    y=y.reshape(len(y),1)\n",
    "    temp1=x.repeat(len(y),axis=1)\n",
    "    temp2=y.repeat(len(x),axis=1)\n",
    "    squ=temp1+np.transpose(temp2)-2*np.matmul(X,np.transpose(Y))\n",
    "    epsilon = 1e-8\n",
    "    #squ = np.sqrt(np.maximum(squ, epsilon))\n",
    "    mat=np.exp(-squ/200)  # kernel bandwith 1,100,200,784\n",
    "    return mat"
   ]
  },
  {
   "cell_type": "code",
   "execution_count": 117,
   "id": "cc55e2a4",
   "metadata": {},
   "outputs": [
    {
     "name": "stdout",
     "output_type": "stream",
     "text": [
      "R= 1e-08\n",
      "R= 1e-07\n",
      "R= 1e-06\n",
      "R= 1e-05\n",
      "R= 0.0001\n",
      "R= 0.001\n",
      "R= 0.01\n"
     ]
    }
   ],
   "source": [
    "error=[]\n",
    "for R in z:\n",
    "    print('R=',R)\n",
    "    MIS=np.zeros(10)\n",
    "    for a in range(10):\n",
    "        P=np.random.normal(0,1,size=(aug,len(train1),12288))\n",
    "        temp2=train1+delta*P\n",
    "        temp2=np.array([temp2]).reshape(aug*len(train1), 12288)\n",
    "    \n",
    "        train = temp2 #augmentation training set\n",
    "        prediction=np.zeros((10,1,100))\n",
    "        for j in range(10):\n",
    "            N=np.random.normal(0,1,size=(len(test1),12288))\n",
    "            test=test1+delta2*N\n",
    "            Ytrain=np.tile(ytrain1,aug)\n",
    "            b=Ker(test,train)\n",
    "            k1=Ker(train,train)\n",
    "            n=len(Ytest)\n",
    "            m=len(train)\n",
    "            I2=np.identity(m)\n",
    "        \n",
    "            k2=np.matrix(k1)+m*R*I2\n",
    "\n",
    "\n",
    "\n",
    "            k_inv=np.linalg.inv(k2)\n",
    "\n",
    "\n",
    "            Y=Ytrain.reshape(len(Ytrain),1)\n",
    "            temp1=np.matmul(b,k_inv)\n",
    "            temp2=np.matmul(temp1,Y)\n",
    "\n",
    "         \n",
    "            y_pred1=temp2\n",
    "            y_pred2=np.ravel(y_pred1)\n",
    "            te = np.where(y_pred2<0, -np.ones_like(y_pred2), np.ones_like(y_pred2))\n",
    "            \n",
    "            prediction[j,0,:]=te\n",
    "\n",
    "        predictions = prediction.reshape((10, 100))\n",
    "        y2=np.tile(Ytest,(10,1))\n",
    "        err=np.transpose(y2-predictions)\n",
    "\n",
    "        ze=np.all(err == 0 , axis=1)\n",
    "\n",
    "        count=np.sum(ze)\n",
    "\n",
    "        err2=count/err.shape[0]\n",
    "        #print(1-err2)\n",
    "        MIS[a]=1-err2\n",
    "    error.append(np.mean(MIS))"
   ]
  },
  {
   "cell_type": "code",
   "execution_count": 118,
   "id": "a70c529a",
   "metadata": {},
   "outputs": [],
   "source": [
    "#no augmented error\n",
    "\n",
    "error2=[]\n",
    "\n",
    "for R in z:\n",
    "    prediction2=np.zeros((10,1,100))\n",
    "    for a in range(10):\n",
    "        N=np.random.normal(0,1,size=(len(test1),12288))\n",
    "        test=test1+delta2*N\n",
    "        B_1=Ker(test,train1)\n",
    "        K_1=Ker(train1,train1)\n",
    "\n",
    "        M=len(train1)\n",
    "        I_2=np.identity(M)\n",
    "\n",
    "        K_2=np.matrix(K_1)+M*R*I_2\n",
    "\n",
    "\n",
    "\n",
    "        Kinv=np.linalg.inv(K_2)\n",
    "        Y=ytrain1.reshape(len(ytrain1),1)\n",
    "        temp1=np.matmul(B_1,Kinv)\n",
    "        temp2=np.matmul(temp1,Y)\n",
    "\n",
    "        y_bar=np.average(Ytest)\n",
    "\n",
    "        ybar=np.multiply(np.ones(n),y_bar)\n",
    "        num=0\n",
    "        den=0\n",
    "        y_pred1=temp2\n",
    "        y_pred2=np.ravel(y_pred1)\n",
    "        te = np.where(y_pred2<0, -np.ones_like(y_pred2), np.ones_like(y_pred2))\n",
    "  \n",
    "        prediction2[a,0,:]=te\n",
    "    prediction2 = prediction2.reshape((10, 100))\n",
    "    y2=np.tile(Ytest,(10,1))\n",
    "    err=np.transpose(y2-prediction2)\n",
    "\n",
    "\n",
    "    ze2=np.all(err == 0 , axis=1)\n",
    "    count2=np.sum(ze2)\n",
    "\n",
    "    err2=count2/err.shape[0]\n",
    "\n",
    "    MIS=1-err2\n",
    "\n",
    "    error2.append(MIS)\n"
   ]
  },
  {
   "cell_type": "code",
   "execution_count": 119,
   "id": "140b189a",
   "metadata": {},
   "outputs": [
    {
     "data": {
      "image/png": "[encoded data removed]",
      "text/plain": [
       "<Figure size 432x288 with 1 Axes>"
      ]
     },
     "metadata": {
      "needs_background": "light"
     },
     "output_type": "display_data"
    }
   ],
   "source": [
    "plt.semilogx(z,error,label='Aug-')\n",
    "plt.semilogx(z,error2,label='NoAug-')\n",
    "plt.legend()\n",
    "plt.show()\n"
   ]
  },
  {
   "cell_type": "code",
   "execution_count": 120,
   "id": "33efe4d3",
   "metadata": {},
   "outputs": [
    {
     "name": "stdout",
     "output_type": "stream",
     "text": [
      "[0.21999999999999997, 0.21999999999999997, 0.21999999999999997, 0.21999999999999997, 0.21999999999999997, 0.21999999999999997, 0.259]\n",
      "[0.21999999999999997, 0.21999999999999997, 0.21999999999999997, 0.21999999999999997, 0.21999999999999997, 0.21999999999999997, 0.25]\n"
     ]
    }
   ],
   "source": [
    "print(error)\n",
    "print(error2)"
   ]
  },
  {
   "cell_type": "code",
   "execution_count": null,
   "id": "d9bb1a3c",
   "metadata": {},
   "outputs": [],
   "source": []
  }
 ],
 "metadata": {
  "kernelspec": {
   "display_name": "tfgpu",
   "language": "python",
   "name": "tfgpu"
  },
  "language_info": {
   "codemirror_mode": {
    "name": "ipython",
    "version": 3
   },
   "file_extension": ".py",
   "mimetype": "text/x-python",
   "name": "python",
   "nbconvert_exporter": "python",
   "pygments_lexer": "ipython3",
   "version": "3.9.15"
  }
 },
 "nbformat": 4,
 "nbformat_minor": 5
}
