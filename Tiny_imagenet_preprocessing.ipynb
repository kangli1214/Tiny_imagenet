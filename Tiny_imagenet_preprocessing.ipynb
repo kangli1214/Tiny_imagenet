{
 "cells": [
  {
   "cell_type": "code",
   "execution_count": 17,
   "id": "7615e9c5",
   "metadata": {},
   "outputs": [],
   "source": [
    "import cv2\n",
    "import os\n",
    "import numpy as np\n",
    "\n",
    "# Define paths to your dataset\n",
    "dataset_dir = \"tiny-imagenet-200\"  \n",
    "output_dir = \"preprocessed_dataset\"\n",
    "\n",
    "# Create output directory if it doesn't exist\n",
    "os.makedirs(output_dir, exist_ok=True)\n",
    "\n",
    "# Resize images to 64x64 pixels\n",
    "image_size = (64, 64)\n",
    "\n",
    "# Function to preprocess an image\n",
    "def preprocess_image(image_path):\n",
    "    image = cv2.imread(image_path)\n",
    "    image = cv2.resize(image, image_size)\n",
    "    image = image.astype(np.float32) / 255.0  # Normalize pixel values\n",
    "    return image\n",
    "\n",
    "# Load WNIDs from the wnid.txt file\n",
    "wnid_file_path = os.path.join(dataset_dir, \"wnids.txt\")\n",
    "with open(wnid_file_path, \"r\") as f:\n",
    "    wnids = [line.strip() for line in f]\n",
    "\n",
    "# Create a mapping from WNIDs to numerical labels\n",
    "wnid_to_label = {wnid: label for label, wnid in enumerate(wnids)}\n",
    "\n",
    "# Preprocess images and labels in the training set based on directory structure\n",
    "X_train = []\n",
    "y_train = []\n",
    "train_data_dir = os.path.join(dataset_dir, \"train\")\n",
    "class_dirs = os.listdir(train_data_dir)\n",
    "for label, class_dir in enumerate(class_dirs):\n",
    "    image_files = os.listdir(os.path.join(train_data_dir, class_dir, \"images\"))\n",
    "    for image_file in image_files:\n",
    "        image_path = os.path.join(train_data_dir, class_dir, \"images\", image_file)\n",
    "        image = preprocess_image(image_path)\n",
    "        X_train.append(image)\n",
    "        y_train.append(wnid_to_label[class_dir])\n",
    "X_train = np.array(X_train)\n",
    "y_train = np.array(y_train)\n",
    "\n",
    "\n",
    "np.save(\"preprocessed_dataset/train/X_train.npy\", X_train)\n",
    "np.save(\"preprocessed_dataset/train/y_train.npy\", y_train)\n",
    "\n",
    "# Preprocess images and labels in the validation set based on val_annotations.txt\n",
    "X_val = []\n",
    "y_val = []\n",
    "val_data_dir = os.path.join(dataset_dir, \"val\")\n",
    "with open(os.path.join(val_data_dir, \"val_annotations.txt\"), \"r\") as f:\n",
    "    for line in f:\n",
    "        split_line = line.strip().split(\"\\t\")\n",
    "        image_file = split_line[0]\n",
    "        wnid = split_line[1]\n",
    "        image_path = os.path.join(val_data_dir, \"images\", image_file)\n",
    "        image = preprocess_image(image_path)\n",
    "        X_val.append(image)\n",
    "        y_val.append(wnid_to_label[wnid])\n",
    "X_val = np.array(X_val)\n",
    "y_val = np.array(y_val)\n",
    "\n",
    "# Ensure the output directory exists for saving preprocessed validation data and labels\n",
    "output_val_dir = os.path.join(output_dir, \"validation\")\n",
    "os.makedirs(output_val_dir, exist_ok=True)\n",
    "\n",
    "\n",
    "np.save(\"preprocessed_dataset/validation/X_val.npy\", X_val)\n",
    "np.save(\"preprocessed_dataset/validation/y_val.npy\", y_val)"
   ]
  },
  {
   "cell_type": "code",
   "execution_count": 15,
   "id": "bd2c907f",
   "metadata": {},
   "outputs": [
    {
     "name": "stdout",
     "output_type": "stream",
     "text": [
      "(10000, 64, 64, 3)\n"
     ]
    }
   ],
   "source": []
  },
  {
   "cell_type": "code",
   "execution_count": null,
   "id": "c0c3d0e1",
   "metadata": {},
   "outputs": [],
   "source": []
  }
 ],
 "metadata": {
  "kernelspec": {
   "display_name": "tfgpu",
   "language": "python",
   "name": "tfgpu"
  },
  "language_info": {
   "codemirror_mode": {
    "name": "ipython",
    "version": 3
   },
   "file_extension": ".py",
   "mimetype": "text/x-python",
   "name": "python",
   "nbconvert_exporter": "python",
   "pygments_lexer": "ipython3",
   "version": "3.9.15"
  }
 },
 "nbformat": 4,
 "nbformat_minor": 5
}
